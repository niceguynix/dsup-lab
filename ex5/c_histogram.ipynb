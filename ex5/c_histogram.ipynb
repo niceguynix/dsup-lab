{
 "cells": [
  {
   "cell_type": "code",
   "execution_count": null,
   "id": "20dcf909-e3dd-4e12-b323-ed10b3918057",
   "metadata": {},
   "outputs": [],
   "source": [
    "import matplotlib.pyplot as plt\n",
    "numbers = [0.1, 0.5, 1, 1.5, 2, 4, 5.5, 6, 8, 9]\n",
    "plt.hist(numbers,bins=3,)\n",
    "plt.xlabel(\"Number\")\n",
    "plt.ylabel(\"Frequency\")\n",
    "plt.show()"
   ]
  },
  {
   "cell_type": "code",
   "execution_count": null,
   "id": "dc70b7bb-789b-4f24-80d5-b2c3f8e652a8",
   "metadata": {},
   "outputs": [],
   "source": [
    "import matplotlib.pyplot as plt\n",
    "# Our data\n",
    "labels = [\"JavaScript\", \"Java\", \"Python\", \"C#\"]\n",
    "usage = [69.8, 45.3, 38.8, 34.4]\n",
    "# Generating the y positions. \n",
    "y_positions = range(len(labels))\n",
    "# Creating our bar plot\n",
    "plt.bar(y_positions, usage)\n",
    "plt.xticks(y_positions, labels)\n",
    "plt.ylabel(\"Usage (%)\")\n",
    "plt.title(\"Programming language usage\")\n",
    "plt.show()"
   ]
  },
  {
   "cell_type": "code",
   "execution_count": null,
   "id": "f519147a-fd1b-41e6-a4c8-f9e89707c690",
   "metadata": {},
   "outputs": [],
   "source": [
    "import matplotlib.pyplot as plt\n",
    "sizes = [25, 20, 45, 10]\n",
    "labels = [\"Cats\", \"Dogs\", \"Tigers\", \"Goats\"]\n",
    "plt.pie(sizes, labels = labels, autopct = \"%.2f\")\n",
    "plt.show()"
   ]
  },
  {
   "cell_type": "code",
   "execution_count": null,
   "id": "ad3357b8-b264-4aca-a7af-0267210c4b34",
   "metadata": {},
   "outputs": [],
   "source": []
  }
 ],
 "metadata": {
  "kernelspec": {
   "display_name": "Python 3 (ipykernel)",
   "language": "python",
   "name": "python3"
  },
  "language_info": {
   "codemirror_mode": {
    "name": "ipython",
    "version": 3
   },
   "file_extension": ".py",
   "mimetype": "text/x-python",
   "name": "python",
   "nbconvert_exporter": "python",
   "pygments_lexer": "ipython3",
   "version": "3.12.0"
  }
 },
 "nbformat": 4,
 "nbformat_minor": 5
}
