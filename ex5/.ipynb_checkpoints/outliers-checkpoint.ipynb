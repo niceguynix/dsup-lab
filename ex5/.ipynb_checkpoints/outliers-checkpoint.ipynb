{
 "cells": [
  {
   "cell_type": "code",
   "execution_count": 2,
   "id": "41c5503d-6f25-4e89-a994-2322acac1e61",
   "metadata": {},
   "outputs": [],
   "source": [
    "import pandas as pd\n",
    "import numpy as np\n",
    "import plotly.express as px"
   ]
  },
  {
   "cell_type": "code",
   "execution_count": null,
   "id": "1c79e905-6093-4dd5-8e79-59e55bdd82fa",
   "metadata": {},
   "outputs": [],
   "source": [
    "df = pd.read_csv('Uber.csv')\n",
    "df"
   ]
  },
  {
   "cell_type": "code",
   "execution_count": null,
   "id": "d2fe0dd4-1b33-4842-bb4e-9dc24f2fada5",
   "metadata": {},
   "outputs": [],
   "source": [
    "df.describe()[['fare_amount','passenger_count']]"
   ]
  },
  {
   "cell_type": "code",
   "execution_count": null,
   "id": "b414f394-1e2a-400a-a2e0-e34dc9dcf968",
   "metadata": {},
   "outputs": [],
   "source": [
    "# fig = px.box(df,y = 'fare_amount')\n",
    "# fig.show()"
   ]
  },
  {
   "cell_type": "code",
   "execution_count": null,
   "id": "124cb500-b0a0-452c-9934-e42315cbfe11",
   "metadata": {},
   "outputs": [],
   "source": [
    "import matplotlib.pyplot as plt"
   ]
  },
  {
   "cell_type": "code",
   "execution_count": null,
   "id": "d17907c9-3a67-4216-88f1-6eded9815333",
   "metadata": {},
   "outputs": [],
   "source": [
    "fig=plt.figure(figsize=(10,6))\n",
    "plt.boxplot(df)\n",
    "plt.show()"
   ]
  },
  {
   "cell_type": "code",
   "execution_count": null,
   "id": "921957e2-cc1e-4112-9ac4-cecaf0e8d8fa",
   "metadata": {},
   "outputs": [],
   "source": [
    "print(fig)\n",
    "print(\"Hello\")"
   ]
  },
  {
   "cell_type": "code",
   "execution_count": null,
   "id": "dd472859-0490-4a80-9a54-dce125af24c3",
   "metadata": {},
   "outputs": [],
   "source": []
  }
 ],
 "metadata": {
  "kernelspec": {
   "display_name": "Python 3 (ipykernel)",
   "language": "python",
   "name": "python3"
  },
  "language_info": {
   "codemirror_mode": {
    "name": "ipython",
    "version": 3
   },
   "file_extension": ".py",
   "mimetype": "text/x-python",
   "name": "python",
   "nbconvert_exporter": "python",
   "pygments_lexer": "ipython3",
   "version": "3.12.0"
  }
 },
 "nbformat": 4,
 "nbformat_minor": 5
}
